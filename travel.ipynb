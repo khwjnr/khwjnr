{
 "cells": [
  {
   "cell_type": "code",
   "execution_count": 5,
   "metadata": {},
   "outputs": [
    {
     "name": "stdout",
     "output_type": "stream",
     "text": [
      "Hi Dereck Smill, we think you'll like these places around Arc de Triomphe \n"
     ]
    }
   ],
   "source": [
    "destinations = ['Paris, France', 'Shanghai, China',\"Los Angeles, USA\",\"São Paulo, Brazil\",\"Cairo, Egypt\"]\n",
    "\n",
    "test_traveler = ['Erin Wilkes', 'Shanghai, China', ['historical site', 'art']]\n",
    "\n",
    "def get_destination_index(destination):\n",
    "  destination_index = destinations.index(destination)\n",
    "  return destination_index\n",
    "\n",
    "def get_traveler_location(traveler):\n",
    "  traveler_destination = traveler[1]\n",
    "  traveler_destination_index = get_destination_index(traveler_destination)\n",
    "  return traveler_destination_index\n",
    "\n",
    "test_destination_index = get_traveler_location(test_traveler)\n",
    "\n",
    "attractions = []\n",
    "for x in destinations:\n",
    "  attractions.append([])\n",
    "\n",
    "#attractions = [ [] for x in destinations]\n",
    "\n",
    "def add_attraction(destination, attraction):\n",
    "  try:\n",
    "    destination_index = get_destination_index(destination)\n",
    "    attractions_for_destinations = attractions[destination_index]\n",
    "    attractions_for_destinations.append(attraction)\n",
    "    return attractions_for_destinations\n",
    "  except ValueError:\n",
    "    return\n",
    "\n",
    "add_attraction(\"Los Angeles, USA\", ['Venice Beach', ['beach']])\n",
    "add_attraction(\"Paris, France\", [\"the Louvre\", [\"art\", \"museum\"]])\n",
    "add_attraction(\"Paris, France\", [\"Arc de Triomphe\", [\"historical site\", \"monument\"]])\n",
    "add_attraction(\"Shanghai, China\", [\"Yu Garden\", [\"garden\", \"historcical site\"]])\n",
    "add_attraction(\"Shanghai, China\", [\"Yuz Museum\", [\"art\", \"museum\"]])\n",
    "add_attraction(\"Shanghai, China\", [\"Oriental Pearl Tower\", [\"skyscraper\", \"viewing deck\"]])\n",
    "add_attraction(\"Los Angeles, USA\", [\"LACMA\", [\"art\", \"museum\"]])\n",
    "add_attraction(\"São Paulo, Brazil\", [\"São Paulo Zoo\", [\"zoo\"]])\n",
    "add_attraction(\"São Paulo, Brazil\", [\"Pátio do Colégio\", [\"historical site\"]])\n",
    "add_attraction(\"Cairo, Egypt\", [\"Pyramids of Giza\", [\"monument\", \"historical site\"]])\n",
    "add_attraction(\"Cairo, Egypt\", [\"Egyptian Museum\", [\"museum\"]])\n",
    "\n",
    "\n",
    "def find_attractions(destination, interests):\n",
    "    destination_index = get_destination_index(destination)\n",
    "    attractions_in_city = attractions[destination_index]\n",
    "    attractions_with_interest = []\n",
    "    for i in attractions_in_city:\n",
    "        possible_attraction = i\n",
    "        attraction_tags = i[1]\n",
    "        for interest in interests:\n",
    "            if interest in attraction_tags:\n",
    "                attractions_with_interest.append(possible_attraction[0])\n",
    "        \n",
    "    return attractions_with_interest\n",
    "\n",
    "def get_attractions_for_traveler(traveler):\n",
    "    traveler_destination = traveler[1]\n",
    "    traveler_interests = traveler[2]\n",
    "    traveler_attractions = find_attractions(traveler_destination, traveler_interests)\n",
    "    interests_string = \"Hi \"\n",
    "    interests_string = interests_string + traveler[0] + \", we think you'll like these places around \" + traveler[1]\n",
    "    for x in traveler_attractions:\n",
    "        interests_string = interests_string + x + \" \"\n",
    "    return interests_string\n",
    "    \n",
    "smills_france = get_attractions_for_traveler(['Dereck Smill', 'Paris, France', ['monument']])\n",
    "print(smills_france)"
   ]
  },
  {
   "cell_type": "code",
   "execution_count": null,
   "metadata": {},
   "outputs": [],
   "source": []
  }
 ],
 "metadata": {
  "kernelspec": {
   "display_name": "Python 3",
   "language": "python",
   "name": "python3"
  },
  "language_info": {
   "codemirror_mode": {
    "name": "ipython",
    "version": 3
   },
   "file_extension": ".py",
   "mimetype": "text/x-python",
   "name": "python",
   "nbconvert_exporter": "python",
   "pygments_lexer": "ipython3",
   "version": "3.7.6"
  }
 },
 "nbformat": 4,
 "nbformat_minor": 4
}
