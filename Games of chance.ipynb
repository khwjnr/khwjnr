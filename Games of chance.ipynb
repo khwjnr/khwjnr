{
 "cells": [
  {
   "cell_type": "code",
   "execution_count": 34,
   "metadata": {},
   "outputs": [
    {
     "name": "stdout",
     "output_type": "stream",
     "text": [
      "Result is 9 which is Odd\n",
      "You just lost 10\n",
      "I have 90\n"
     ]
    }
   ],
   "source": [
    "import random\n",
    "\n",
    "money = 100\n",
    "\n",
    "#Write your game of chance functions here\n",
    "def head_or_tail(guess, bet):\n",
    "    number = random.randint(1,2)\n",
    "    if number == 1: target = \"Head\"\n",
    "    else : target = \"Tail\"\n",
    "    print(\"Coin is \"+ target)\n",
    "    if guess == target:\n",
    "        print(\"You won! you just won \" + str(bet))\n",
    "        return bet\n",
    "    else: \n",
    "        print(\"You just lost \" + str(bet))\n",
    "        return -bet\n",
    "\n",
    "def cho_han(guess, bet):\n",
    "    number1 = random.randint(1,6)\n",
    "    number2 = random.randint(1,6)\n",
    "    sum = number1 + number2\n",
    "    if(sum%2==0): result = 'Even'\n",
    "    else : result = \"Odd\"\n",
    "    print(\"Result is \" + str(sum) + \" which is \"+ result)\n",
    "    if(guess == result):\n",
    "        print(\"You won! you just won \" + str(bet))\n",
    "        return bet\n",
    "    else:\n",
    "        print(\"You just lost \" + str(bet))\n",
    "        return -bet \n",
    "\n",
    "    \n",
    "#Call your game of chance functions here\n",
    "money+= cho_han(\"Even\", 10)\n",
    "print(\"I have \" + str(money))"
   ]
  },
  {
   "cell_type": "code",
   "execution_count": null,
   "metadata": {},
   "outputs": [],
   "source": []
  },
  {
   "cell_type": "code",
   "execution_count": null,
   "metadata": {},
   "outputs": [],
   "source": []
  }
 ],
 "metadata": {
  "kernelspec": {
   "display_name": "Python 3",
   "language": "python",
   "name": "python3"
  },
  "language_info": {
   "codemirror_mode": {
    "name": "ipython",
    "version": 3
   },
   "file_extension": ".py",
   "mimetype": "text/x-python",
   "name": "python",
   "nbconvert_exporter": "python",
   "pygments_lexer": "ipython3",
   "version": "3.7.6"
  }
 },
 "nbformat": 4,
 "nbformat_minor": 4
}
